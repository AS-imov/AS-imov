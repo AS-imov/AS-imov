{
 "cells": [
  {
   "cell_type": "markdown",
   "id": "1513a868-3c09-466c-9163-6147d47192d1",
   "metadata": {},
   "source": [
    "# Data Science Tools and Ecosystem"
   ]
  },
  {
   "attachments": {},
   "cell_type": "markdown",
   "id": "ccf87611-adbf-442b-802f-3f093a1d4c64",
   "metadata": {},
   "source": [
    "Following is a summary of commonly used data science tools and ecosystems."
   ]
  },
  {
   "cell_type": "markdown",
   "id": "dcb34f62-2e5a-4d12-ba7e-7314c7cbcf6e",
   "metadata": {},
   "source": [
    "Objectives:\n",
    "- List commonly used tools and systems in the field of data science.\n",
    "- Demonstrate JupyterLab.\n",
    "- Demonstrate Python."
   ]
  },
  {
   "cell_type": "markdown",
   "id": "1bbcaa2a-ddf2-4fbb-b957-bbd15e625b83",
   "metadata": {},
   "source": [
    "## Author\n",
    "Edvard F.L. Narum"
   ]
  },
  {
   "cell_type": "markdown",
   "id": "7db01664-ec19-49a3-86ac-8c9e8f521595",
   "metadata": {},
   "source": [
    "Commonly used languages in the field are:\n",
    "1. Python\n",
    "2. R\n",
    "3. Java"
   ]
  },
  {
   "cell_type": "markdown",
   "id": "eee25ef0-d441-4533-af6b-0a119252f4b1",
   "metadata": {},
   "source": [
    "Frequently used Python libraries include:\n",
    "1. Pandas\n",
    "2. TensorFlow\n",
    "3. PyTorch"
   ]
  },
  {
   "cell_type": "markdown",
   "id": "1b8e3972-7565-4bcc-930f-a1ede53528f6",
   "metadata": {},
   "source": [
    "| Data Science Tools |\n",
    "|--------------|\n",
    "| MySQL |\n",
    "| Hadoop |\n",
    "| Apache Spark |"
   ]
  },
  {
   "cell_type": "markdown",
   "id": "1f375f7d-c0b7-445d-b1d3-ede5c118dfbc",
   "metadata": {},
   "source": [
    "### Get ready for Python arithmetic expressions. These exercises feel menial and patronizing."
   ]
  },
  {
   "cell_type": "code",
   "execution_count": 50,
   "id": "08d4a7a2-58ff-4b05-a841-cf040e8baa4d",
   "metadata": {},
   "outputs": [
    {
     "name": "stdout",
     "output_type": "stream",
     "text": [
      "17\n"
     ]
    }
   ],
   "source": [
    "#multiplication and addition, baby\n",
    "a = (3*4)+5\n",
    "print(a)"
   ]
  },
  {
   "cell_type": "code",
   "execution_count": 51,
   "id": "e5e2c9db-63e4-4004-8c2c-656896306b3b",
   "metadata": {},
   "outputs": [
    {
     "name": "stdout",
     "output_type": "stream",
     "text": [
      "3.3333333333333335\n"
     ]
    }
   ],
   "source": [
    "#minutes to hours\n",
    "minutes = 200.0\n",
    "hours = minutes / 60.0\n",
    "print(hours)"
   ]
  }
 ],
 "metadata": {
  "kernelspec": {
   "display_name": "Python 3 (ipykernel)",
   "language": "python",
   "name": "python3"
  },
  "language_info": {
   "codemirror_mode": {
    "name": "ipython",
    "version": 3
   },
   "file_extension": ".py",
   "mimetype": "text/x-python",
   "name": "python",
   "nbconvert_exporter": "python",
   "pygments_lexer": "ipython3",
   "version": "3.12.4"
  }
 },
 "nbformat": 4,
 "nbformat_minor": 5
}
